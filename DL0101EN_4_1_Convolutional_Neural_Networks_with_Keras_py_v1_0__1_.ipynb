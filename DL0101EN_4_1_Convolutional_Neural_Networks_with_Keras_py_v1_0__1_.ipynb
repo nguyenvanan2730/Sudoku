{
  "nbformat": 4,
  "nbformat_minor": 0,
  "metadata": {
    "kernelspec": {
      "name": "python3",
      "display_name": "Python 3.8.8 64-bit ('nguye': virtualenv)"
    },
    "language_info": {
      "codemirror_mode": {
        "name": "ipython",
        "version": 3
      },
      "file_extension": ".py",
      "mimetype": "text/x-python",
      "name": "python",
      "nbconvert_exporter": "python",
      "pygments_lexer": "ipython3",
      "version": "3.8.8"
    },
    "colab": {
      "name": "DL0101EN-4-1-Convolutional-Neural-Networks-with-Keras-py-v1.0__1_.ipynb",
      "provenance": []
    },
    "interpreter": {
      "hash": "69251a949eb3dae48a5660fd5f9bc90f8709a7d30678464b55379986c6c980dc"
    }
  },
  "cells": [
    {
      "cell_type": "markdown",
      "metadata": {
        "id": "uYFEbLMe59IT"
      },
      "source": [
        "<a href=\"https://cognitiveclass.ai\"><img src = \"https://s3-api.us-geo.objectstorage.softlayer.net/cf-courses-data/CognitiveClass/Logos/organization_logo/organization_logo.png\" width = 400> </a>\n",
        "\n",
        "<h1 align=center><font size = 5>Convolutional Neural Networks with Keras</font></h1>\n"
      ]
    },
    {
      "cell_type": "markdown",
      "metadata": {
        "id": "TXZOXHB659Ie"
      },
      "source": [
        "In this lab, we will learn how to use the Keras library to build convolutional neural networks. We will also use the popular MNIST dataset and we will compare our results to using a conventional neural network.\n"
      ]
    },
    {
      "cell_type": "markdown",
      "metadata": {
        "id": "veqO_69i59Ig"
      },
      "source": [
        "<h2>Convolutional Neural Networks with Keras</h2>\n",
        "\n",
        "<h3>Objective for this Notebook<h3>    \n",
        "<h5> 1. How to use the Keras library to build convolutional neural networks.</h5>\n",
        "<h5> 2. Convolutional Neural Network with One Convolutional and Pooling Layers.</h5>\n",
        "<h5> 3. Convolutional Neural Network with Two Convolutional and Pooling Layers.</h5>\n"
      ]
    },
    {
      "cell_type": "markdown",
      "metadata": {
        "id": "DAZifdke59Ii"
      },
      "source": [
        "## Table of Contents\n",
        "\n",
        "<div class=\"alert alert-block alert-info\" style=\"margin-top: 20px\">\n",
        "\n",
        "<font size = 3>\n",
        "      \n",
        "1. <a href=\"#item41\">Import Keras and Packages</a>   \n",
        "2. <a href=\"#item42\">Convolutional Neural Network with One Convolutional and Pooling Layers</a>  \n",
        "3. <a href=\"#item43\">Convolutional Neural Network with Two Convolutional and Pooling Layers</a>  \n",
        "\n",
        "</font>\n",
        "</div>\n"
      ]
    },
    {
      "cell_type": "markdown",
      "metadata": {
        "id": "YE0Xg2sL59Ij"
      },
      "source": [
        "<a id='item41'></a>\n"
      ]
    },
    {
      "cell_type": "markdown",
      "metadata": {
        "id": "lyw3oDAa59Ik"
      },
      "source": [
        "## Import Keras and Packages\n"
      ]
    },
    {
      "cell_type": "markdown",
      "metadata": {
        "id": "Qy1pKwE959Il"
      },
      "source": [
        "Let's start by importing the keras libraries and the packages that we would need to build a neural network.\n"
      ]
    },
    {
      "cell_type": "code",
      "metadata": {
        "id": "KxVpjxNf59Il"
      },
      "source": [
        "import tensorflow.keras as keras\n",
        "from keras.models import Sequential\n",
        "from keras.layers import Dense\n",
        "from tensorflow.keras.utils import to_categorical"
      ],
      "execution_count": 1,
      "outputs": []
    },
    {
      "cell_type": "markdown",
      "metadata": {
        "id": "mshmug4g59Im"
      },
      "source": [
        "When working with convolutional neural networks in particular, we will need additional packages.\n"
      ]
    },
    {
      "cell_type": "code",
      "metadata": {
        "id": "l6PF67Fy59In"
      },
      "source": [
        "from keras.layers.convolutional import Conv2D # to add convolutional layers\n",
        "from keras.layers.convolutional import MaxPooling2D # to add pooling layers\n",
        "from keras.layers import Flatten # to flatten data for fully connected layers"
      ],
      "execution_count": 2,
      "outputs": []
    },
    {
      "cell_type": "markdown",
      "metadata": {
        "id": "WaGYypCk59Io"
      },
      "source": [
        "<a id='item42'></a>\n"
      ]
    },
    {
      "cell_type": "markdown",
      "metadata": {
        "id": "V6OyWzoM59Io"
      },
      "source": [
        "## Convolutional Layer with One set of convolutional and pooling layers\n"
      ]
    },
    {
      "cell_type": "code",
      "metadata": {
        "colab": {
          "base_uri": "https://localhost:8080/"
        },
        "id": "DD8TTH9159Io",
        "outputId": "c79c839d-a664-4ae2-9889-38c519500b87"
      },
      "source": [
        "# import data\n",
        "from keras.datasets import mnist\n",
        "\n",
        "# load data\n",
        "(X_train, y_train), (X_test, y_test) = mnist.load_data()\n",
        "\n",
        "print(X_train.shape)\n",
        "# reshape to be [samples][pixels][width][height]\n",
        "X_train = X_train.reshape(X_train.shape[0], 28, 28, 1).astype('float32')\n",
        "X_test = X_test.reshape(X_test.shape[0], 28, 28, 1).astype('float32')"
      ],
      "execution_count": 12,
      "outputs": [
        {
          "output_type": "stream",
          "name": "stdout",
          "text": [
            "(60000, 28, 28)\n"
          ]
        }
      ]
    },
    {
      "cell_type": "markdown",
      "metadata": {
        "id": "Zbzvm0Vm59Ip"
      },
      "source": [
        "Let's normalize the pixel values to be between 0 and 1\n"
      ]
    },
    {
      "cell_type": "code",
      "execution_count": 11,
      "metadata": {},
      "outputs": [
        {
          "output_type": "execute_result",
          "data": {
            "text/plain": [
              "(60000, 28, 28, 1)"
            ]
          },
          "metadata": {},
          "execution_count": 11
        }
      ],
      "source": [
        "X_train.shape"
      ]
    },
    {
      "cell_type": "code",
      "metadata": {
        "id": "TaJEMLBB59Ip"
      },
      "source": [
        "X_train = X_train / 255 # normalize training data\n",
        "X_test = X_test / 255 # normalize test data"
      ],
      "execution_count": 10,
      "outputs": []
    },
    {
      "cell_type": "markdown",
      "metadata": {
        "id": "wa_42ORB59Iq"
      },
      "source": [
        "Next, let's convert the target variable into binary categories\n"
      ]
    },
    {
      "cell_type": "code",
      "metadata": {
        "id": "Y_VuKlET59Iq"
      },
      "source": [
        "y_train = to_categorical(y_train)\n",
        "y_test = to_categorical(y_test)\n",
        "\n",
        "num_classes = y_test.shape[1] # number of categories"
      ],
      "execution_count": 11,
      "outputs": []
    },
    {
      "cell_type": "markdown",
      "metadata": {
        "id": "Oyccq6ca59Iq"
      },
      "source": [
        "Next, let's define a function that creates our model. Let's start with one set of convolutional and pooling layers.\n"
      ]
    },
    {
      "cell_type": "code",
      "metadata": {
        "id": "0PKeyCeY59Ir"
      },
      "source": [
        "def convolutional_model():\n",
        "    \n",
        "    # create model\n",
        "    model = Sequential()\n",
        "    model.add(Conv2D(16, (5, 5), strides=(1, 1), activation='relu', input_shape=(28, 28, 1)))\n",
        "    model.add(MaxPooling2D(pool_size=(2, 2), strides=(2, 2)))\n",
        "    \n",
        "    model.add(Flatten())\n",
        "    model.add(Dense(100, activation='relu'))\n",
        "    model.add(Dense(num_classes, activation='softmax'))\n",
        "    \n",
        "    # compile model\n",
        "    model.compile(optimizer='adam', loss='categorical_crossentropy',  metrics=['accuracy'])\n",
        "    return model"
      ],
      "execution_count": 12,
      "outputs": []
    },
    {
      "cell_type": "markdown",
      "metadata": {
        "id": "1rDdZnLy59Ir"
      },
      "source": [
        "Finally, let's call the function to create the model, and then let's train it and evaluate it.\n"
      ]
    },
    {
      "cell_type": "code",
      "metadata": {
        "colab": {
          "base_uri": "https://localhost:8080/"
        },
        "id": "Yo9w8MyX59Is",
        "outputId": "d80a72ae-fe72-43af-a4de-56ef1b806d6d"
      },
      "source": [
        "# build the model\n",
        "model = convolutional_model()\n",
        "\n",
        "# fit the model\n",
        "model.fit(X_train, y_train, validation_data=(X_test, y_test), epochs=10, batch_size=200, verbose=2)\n",
        "\n",
        "# evaluate the model\n",
        "scores = model.evaluate(X_test, y_test, verbose=0)\n",
        "print(\"Accuracy: {} \\n Error: {}\".format(scores[1], 100-scores[1]*100))"
      ],
      "execution_count": 13,
      "outputs": [
        {
          "output_type": "stream",
          "text": [
            "Epoch 1/10\n",
            "300/300 - 32s - loss: 0.2904 - accuracy: 0.9181 - val_loss: 0.0988 - val_accuracy: 0.9717\n",
            "Epoch 2/10\n",
            "300/300 - 17s - loss: 0.0881 - accuracy: 0.9743 - val_loss: 0.0640 - val_accuracy: 0.9803\n",
            "Epoch 3/10\n",
            "300/300 - 17s - loss: 0.0607 - accuracy: 0.9823 - val_loss: 0.0561 - val_accuracy: 0.9808\n",
            "Epoch 4/10\n",
            "300/300 - 17s - loss: 0.0464 - accuracy: 0.9865 - val_loss: 0.0443 - val_accuracy: 0.9844\n",
            "Epoch 5/10\n",
            "300/300 - 17s - loss: 0.0387 - accuracy: 0.9883 - val_loss: 0.0419 - val_accuracy: 0.9864\n",
            "Epoch 6/10\n",
            "300/300 - 17s - loss: 0.0313 - accuracy: 0.9907 - val_loss: 0.0396 - val_accuracy: 0.9861\n",
            "Epoch 7/10\n",
            "300/300 - 17s - loss: 0.0268 - accuracy: 0.9916 - val_loss: 0.0414 - val_accuracy: 0.9876\n",
            "Epoch 8/10\n",
            "300/300 - 17s - loss: 0.0226 - accuracy: 0.9932 - val_loss: 0.0384 - val_accuracy: 0.9871\n",
            "Epoch 9/10\n",
            "300/300 - 17s - loss: 0.0186 - accuracy: 0.9945 - val_loss: 0.0442 - val_accuracy: 0.9857\n",
            "Epoch 10/10\n",
            "300/300 - 17s - loss: 0.0154 - accuracy: 0.9951 - val_loss: 0.0329 - val_accuracy: 0.9890\n",
            "Accuracy: 0.9890000224113464 \n",
            " Error: 1.0999977588653564\n"
          ],
          "name": "stdout"
        }
      ]
    },
    {
      "cell_type": "markdown",
      "metadata": {
        "id": "QlqWKxB759Is"
      },
      "source": [
        "* * *\n"
      ]
    },
    {
      "cell_type": "markdown",
      "metadata": {
        "id": "tJ-tDGEd59Is"
      },
      "source": [
        "<a id='item43'></a>\n"
      ]
    },
    {
      "cell_type": "markdown",
      "metadata": {
        "id": "DLWhOcnt59It"
      },
      "source": [
        "## Convolutional Layer with two sets of convolutional and pooling layers\n"
      ]
    },
    {
      "cell_type": "markdown",
      "metadata": {
        "id": "9MxPmqZP59It"
      },
      "source": [
        "Let's redefine our convolutional model so that it has two convolutional and pooling layers instead of just one layer of each.\n"
      ]
    },
    {
      "cell_type": "code",
      "metadata": {
        "id": "WyDW1ezr59It"
      },
      "source": [
        "def convolutional_model():\n",
        "    \n",
        "    # create model\n",
        "    model = Sequential()\n",
        "    model.add(Conv2D(16, (5, 5), activation='relu', input_shape=(28, 28, 1)))\n",
        "    model.add(MaxPooling2D(pool_size=(2, 2), strides=(2, 2)))\n",
        "    \n",
        "    model.add(Conv2D(8, (2, 2), activation='relu'))\n",
        "    model.add(MaxPooling2D(pool_size=(2, 2), strides=(2, 2)))\n",
        "    \n",
        "    model.add(Flatten())\n",
        "    model.add(Dense(100, activation='relu'))\n",
        "    model.add(Dense(num_classes, activation='softmax'))\n",
        "    \n",
        "    # Compile model\n",
        "    model.compile(optimizer='adam', loss='categorical_crossentropy',  metrics=['accuracy'])\n",
        "    return model"
      ],
      "execution_count": 14,
      "outputs": []
    },
    {
      "cell_type": "markdown",
      "metadata": {
        "id": "XHBkPhI059Iu"
      },
      "source": [
        "Now, let's call the function to create our new convolutional neural network, and then let's train it and evaluate it.\n"
      ]
    },
    {
      "cell_type": "code",
      "metadata": {
        "colab": {
          "base_uri": "https://localhost:8080/"
        },
        "id": "p1KZZVXW59Iv",
        "outputId": "e6d1cdc7-7a8c-4d99-82bf-c9edc2ab4984"
      },
      "source": [
        "# build the model\n",
        "model = convolutional_model()\n",
        "\n",
        "# fit the model\n",
        "model.fit(X_train, y_train, validation_data=(X_test, y_test), epochs=10, batch_size=200, verbose=2)\n",
        "\n",
        "# evaluate the model\n",
        "scores = model.evaluate(X_test, y_test, verbose=0)\n",
        "print(\"Accuracy: {} \\n Error: {}\".format(scores[1], 100-scores[1]*100))"
      ],
      "execution_count": 15,
      "outputs": [
        {
          "output_type": "stream",
          "text": [
            "Epoch 1/10\n",
            "300/300 - 21s - loss: 0.4505 - accuracy: 0.8692 - val_loss: 0.1312 - val_accuracy: 0.9637\n",
            "Epoch 2/10\n",
            "300/300 - 20s - loss: 0.1173 - accuracy: 0.9657 - val_loss: 0.0819 - val_accuracy: 0.9755\n",
            "Epoch 3/10\n",
            "300/300 - 20s - loss: 0.0836 - accuracy: 0.9750 - val_loss: 0.0608 - val_accuracy: 0.9803\n",
            "Epoch 4/10\n",
            "300/300 - 20s - loss: 0.0683 - accuracy: 0.9790 - val_loss: 0.0492 - val_accuracy: 0.9841\n",
            "Epoch 5/10\n",
            "300/300 - 20s - loss: 0.0564 - accuracy: 0.9834 - val_loss: 0.0456 - val_accuracy: 0.9855\n",
            "Epoch 6/10\n",
            "300/300 - 20s - loss: 0.0504 - accuracy: 0.9850 - val_loss: 0.0409 - val_accuracy: 0.9875\n",
            "Epoch 7/10\n",
            "300/300 - 20s - loss: 0.0441 - accuracy: 0.9869 - val_loss: 0.0373 - val_accuracy: 0.9879\n",
            "Epoch 8/10\n",
            "300/300 - 20s - loss: 0.0395 - accuracy: 0.9876 - val_loss: 0.0400 - val_accuracy: 0.9874\n",
            "Epoch 9/10\n",
            "300/300 - 20s - loss: 0.0355 - accuracy: 0.9887 - val_loss: 0.0351 - val_accuracy: 0.9884\n",
            "Epoch 10/10\n",
            "300/300 - 19s - loss: 0.0327 - accuracy: 0.9901 - val_loss: 0.0394 - val_accuracy: 0.9874\n",
            "Accuracy: 0.9873999953269958 \n",
            " Error: 1.260000467300415\n"
          ],
          "name": "stdout"
        }
      ]
    },
    {
      "cell_type": "code",
      "metadata": {
        "id": "RknqguLZ_MmV"
      },
      "source": [
        "model.save(\"mnist_handwritting.h5\")"
      ],
      "execution_count": 16,
      "outputs": []
    },
    {
      "cell_type": "code",
      "metadata": {
        "colab": {
          "base_uri": "https://localhost:8080/"
        },
        "id": "IkU3xSePHV1W",
        "outputId": "4772bdcc-2636-47fa-c61e-fa7561443a92"
      },
      "source": [
        "X_train.shape"
      ],
      "execution_count": 18,
      "outputs": [
        {
          "output_type": "execute_result",
          "data": {
            "text/plain": [
              "(60000, 28, 28, 1)"
            ]
          },
          "metadata": {
            "tags": []
          },
          "execution_count": 18
        }
      ]
    },
    {
      "cell_type": "code",
      "metadata": {
        "id": "pazEiq8bHdLj"
      },
      "source": [
        "pred_data = model.predict(X_test)"
      ],
      "execution_count": 43,
      "outputs": []
    },
    {
      "cell_type": "code",
      "metadata": {
        "colab": {
          "base_uri": "https://localhost:8080/"
        },
        "id": "odDLp3tIN3fg",
        "outputId": "740fa443-e706-46ea-b093-2f6e8170b7ab"
      },
      "source": [
        "import numpy as np\n",
        "np.argmax(pred_data[0:10], axis=1)"
      ],
      "execution_count": 45,
      "outputs": [
        {
          "output_type": "execute_result",
          "data": {
            "text/plain": [
              "array([7, 2, 1, 0, 4, 1, 4, 9, 5, 9])"
            ]
          },
          "metadata": {
            "tags": []
          },
          "execution_count": 45
        }
      ]
    },
    {
      "cell_type": "code",
      "metadata": {
        "id": "Y1w1fmRIJyKh"
      },
      "source": [
        "# import data\n",
        "from keras.datasets import mnist\n",
        "\n",
        "# load data\n",
        "(X2_train, y2_train), (X2_test, y2_test) = mnist.load_data()"
      ],
      "execution_count": 35,
      "outputs": []
    },
    {
      "cell_type": "code",
      "metadata": {
        "colab": {
          "base_uri": "https://localhost:8080/",
          "height": 265
        },
        "id": "_wvufAYJMnrk",
        "outputId": "4f746bf3-0614-42f1-f6d7-3d281c78ffed"
      },
      "source": [
        "from matplotlib import pyplot as plt\n",
        "plt.imshow(X2_test[9])\n",
        "plt.show()"
      ],
      "execution_count": 56,
      "outputs": [
        {
          "output_type": "display_data",
          "data": {
            "image/png": "[encoded data removed]",
            "text/plain": [
              "<Figure size 432x288 with 1 Axes>"
            ]
          },
          "metadata": {
            "tags": [],
            "needs_background": "light"
          }
        }
      ]
    },
    {
      "cell_type": "markdown",
      "metadata": {
        "id": "YW-NG9V759Iv"
      },
      "source": [
        "### Thank you for completing this lab!\n",
        "\n",
        "This notebook was created by [Alex Aklson](https://www.linkedin.com/in/aklson?cm_mmc=Email_Newsletter-_-Developer_Ed%2BTech-_-WW_WW-_-SkillsNetwork-Courses-IBMDeveloperSkillsNetwork-DL0101EN-SkillsNetwork-20718188&cm_mmca1=000026UJ&cm_mmca2=10006555&cm_mmca3=M12345678&cvosrc=email.Newsletter.M12345678&cvo_campaign=000026UJ&cm_mmc=Email_Newsletter-_-Developer_Ed%2BTech-_-WW_WW-_-SkillsNetwork-Courses-IBMDeveloperSkillsNetwork-DL0101EN-SkillsNetwork-20718188&cm_mmca1=000026UJ&cm_mmca2=10006555&cm_mmca3=M12345678&cvosrc=email.Newsletter.M12345678&cvo_campaign=000026UJ). I hope you found this lab interesting and educational. Feel free to contact me if you have any questions!\n"
      ]
    },
    {
      "cell_type": "markdown",
      "metadata": {
        "id": "vegCMmQ059Iw"
      },
      "source": [
        "## Change Log\n",
        "\n",
        "| Date (YYYY-MM-DD) | Version | Changed By | Change Description                                          |\n",
        "| ----------------- | ------- | ---------- | ----------------------------------------------------------- |\n",
        "| 2020-09-21        | 2.0     | Srishti    | Migrated Lab to Markdown and added to course repo in GitLab |\n",
        "\n",
        "<hr>\n",
        "\n",
        "## <h3 align=\"center\"> © IBM Corporation 2020. All rights reserved. <h3/>\n"
      ]
    },
    {
      "cell_type": "markdown",
      "metadata": {
        "id": "bToMJrHr59Iw"
      },
      "source": [
        "This notebook is part of a course on **Coursera** called _Introduction to Deep Learning & Neural Networks with Keras_. If you accessed this notebook outside the course, you can take this course online by clicking [here](https://cocl.us/DL0101EN_Coursera_Week4_LAB1).\n"
      ]
    },
    {
      "cell_type": "markdown",
      "metadata": {
        "id": "LZMqUIwH59Ix"
      },
      "source": [
        "<hr>\n",
        "\n",
        "Copyright © 2019 [IBM Developer Skills Network](https://cognitiveclass.ai?utm_source=bducopyrightlink&utm_medium=dswb&utm_campaign=bdu&cm_mmc=Email_Newsletter-_-Developer_Ed%2BTech-_-WW_WW-_-SkillsNetwork-Courses-IBMDeveloperSkillsNetwork-DL0101EN-SkillsNetwork-20718188&cm_mmca1=000026UJ&cm_mmca2=10006555&cm_mmca3=M12345678&cvosrc=email.Newsletter.M12345678&cvo_campaign=000026UJ&cm_mmc=Email_Newsletter-_-Developer_Ed%2BTech-_-WW_WW-_-SkillsNetwork-Courses-IBMDeveloperSkillsNetwork-DL0101EN-SkillsNetwork-20718188&cm_mmca1=000026UJ&cm_mmca2=10006555&cm_mmca3=M12345678&cvosrc=email.Newsletter.M12345678&cvo_campaign=000026UJ&cm_mmc=Email_Newsletter-_-Developer_Ed%2BTech-_-WW_WW-_-SkillsNetwork-Courses-IBMDeveloperSkillsNetwork-DL0101EN-SkillsNetwork-20718188&cm_mmca1=000026UJ&cm_mmca2=10006555&cm_mmca3=M12345678&cvosrc=email.Newsletter.M12345678&cvo_campaign=000026UJ&cm_mmc=Email_Newsletter-_-Developer_Ed%2BTech-_-WW_WW-_-SkillsNetwork-Courses-IBMDeveloperSkillsNetwork-DL0101EN-SkillsNetwork-20718188&cm_mmca1=000026UJ&cm_mmca2=10006555&cm_mmca3=M12345678&cvosrc=email.Newsletter.M12345678&cvo_campaign=000026UJ). This notebook and its source code are released under the terms of the [MIT License](https://bigdatauniversity.com/mit-license?cm_mmc=Email_Newsletter-_-Developer_Ed%2BTech-_-WW_WW-_-SkillsNetwork-Courses-IBMDeveloperSkillsNetwork-DL0101EN-SkillsNetwork-20718188&cm_mmca1=000026UJ&cm_mmca2=10006555&cm_mmca3=M12345678&cvosrc=email.Newsletter.M12345678&cvo_campaign=000026UJ&cm_mmc=Email_Newsletter-_-Developer_Ed%2BTech-_-WW_WW-_-SkillsNetwork-Courses-IBMDeveloperSkillsNetwork-DL0101EN-SkillsNetwork-20718188&cm_mmca1=000026UJ&cm_mmca2=10006555&cm_mmca3=M12345678&cvosrc=email.Newsletter.M12345678&cvo_campaign=000026UJ).\n"
      ]
    }
  ]
}