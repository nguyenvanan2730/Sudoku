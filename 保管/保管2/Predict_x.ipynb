{
 "metadata": {
  "language_info": {
   "codemirror_mode": {
    "name": "ipython",
    "version": 3
   },
   "file_extension": ".py",
   "mimetype": "text/x-python",
   "name": "python",
   "nbconvert_exporter": "python",
   "pygments_lexer": "ipython3",
   "version": "3.8.8"
  },
  "orig_nbformat": 4,
  "kernelspec": {
   "name": "python3",
   "display_name": "Python 3.8.8 64-bit ('base': conda)"
  },
  "interpreter": {
   "hash": "69251a949eb3dae48a5660fd5f9bc90f8709a7d30678464b55379986c6c980dc"
  }
 },
 "nbformat": 4,
 "nbformat_minor": 2,
 "cells": [
  {
   "cell_type": "code",
   "execution_count": 1,
   "metadata": {},
   "outputs": [],
   "source": [
    "from re import VERBOSE\n",
    "from tensorflow import keras\n",
    "from tensorflow.keras.models import load_model\n",
    "import numpy as np\n",
    "import cv2"
   ]
  },
  {
   "cell_type": "code",
   "execution_count": 33,
   "metadata": {},
   "outputs": [],
   "source": [
    "model_mnist = load_model('C://Users/nguye/Desktop/VanAn/SUDOKU/model/classifier_vgg16_project.h5')\n"
   ]
  },
  {
   "cell_type": "code",
   "execution_count": 35,
   "metadata": {},
   "outputs": [
    {
     "output_type": "stream",
     "name": "stdout",
     "text": [
      "WARNING:tensorflow:5 out of the last 6 calls to <function Model.make_predict_function.<locals>.predict_function at 0x0000012F3DA68A60> triggered tf.function retracing. Tracing is expensive and the excessive number of tracings could be due to (1) creating @tf.function repeatedly in a loop, (2) passing tensors with different shapes, (3) passing Python objects instead of tensors. For (1), please define your @tf.function outside of the loop. For (2), @tf.function has experimental_relax_shapes=True option that relaxes argument shapes that can avoid unnecessary retracing. For (3), please refer to https://www.tensorflow.org/guide/function#controlling_retracing and https://www.tensorflow.org/api_docs/python/tf/function for  more details.\n"
     ]
    }
   ],
   "source": [
    "img_input = cv2.imread(\"C://Users/nguye/Desktop/VanAn/SUDOKU/Reference/Sudoku_AI-master/CleanedBoardCells/cell12.png\",0)\n",
    "img_input2 = np.array(img_input)\n",
    "img_input2.shape\n",
    "img_input3 = cv2.resize(img_input2,(28,28))\n",
    "img_input3 = img_input3.reshape(1,28,28,1)\n",
    "img_input4 = img_input3/255.0\n",
    "pred_result = model_mnist.predict(img_input4)"
   ]
  },
  {
   "cell_type": "code",
   "execution_count": 36,
   "metadata": {},
   "outputs": [
    {
     "output_type": "execute_result",
     "data": {
      "text/plain": [
       "array([[ 0.,  0.,  0.,  0.,  0., 99.,  0.,  0.,  1.,  0.]], dtype=float32)"
      ]
     },
     "metadata": {},
     "execution_count": 36
    }
   ],
   "source": [
    "np.round(pred_result*100)"
   ]
  },
  {
   "cell_type": "code",
   "execution_count": 57,
   "metadata": {},
   "outputs": [
    {
     "output_type": "stream",
     "name": "stdout",
     "text": [
      "(28, 28)\n(28, 28)\n(28, 28)\n(28, 28)\n(28, 28)\n(28, 28)\n(28, 28)\n(28, 28)\n(28, 28)\n(28, 28)\n(28, 28)\n(28, 28)\n"
     ]
    },
    {
     "output_type": "execute_result",
     "data": {
      "text/plain": [
       "(12, 28, 28)"
      ]
     },
     "metadata": {},
     "execution_count": 57
    }
   ],
   "source": [
    "img_input = []\n",
    "for i in range(1,13):\n",
    "    img_read = cv2.imread(\"C://Users/nguye/Desktop/VanAn/SUDOKU/Image/number/img_test%d.jpeg\"%i,0)\n",
    "    img_input.append(img_read)\n",
    "    print(img_read.shape)\n",
    "img_input2 = np.array(img_input)\n",
    "img_input2.shape\n",
    "# cv2.imshow(\"before\",img_input)\n",
    "\n",
    "# print(\"img_input shape1: \", img_input.shape)\n",
    "# print(\"img_input lenght1: \", len(img_input))\n",
    "\n",
    "# cv2.waitKey(0)"
   ]
  },
  {
   "cell_type": "code",
   "execution_count": 58,
   "metadata": {},
   "outputs": [],
   "source": [
    "img_input3 = img_input2.reshape(12,28,28,1)\n",
    "# cv2.imshow(\"after\",img_input3)\n",
    "# cv2.waitKey(0)"
   ]
  },
  {
   "cell_type": "code",
   "execution_count": 60,
   "metadata": {},
   "outputs": [
    {
     "output_type": "execute_result",
     "data": {
      "text/plain": [
       "-1"
      ]
     },
     "metadata": {},
     "execution_count": 60
    }
   ],
   "source": [
    "img_input4 = img_input3 / 255.0\n",
    "#img_input4 = img_input3 \n",
    "img_input4.shape\n",
    "cv2.imshow(\"input_4\",img_input4[11])\n",
    "cv2.waitKey(0)"
   ]
  },
  {
   "cell_type": "code",
   "execution_count": 61,
   "metadata": {},
   "outputs": [
    {
     "output_type": "execute_result",
     "data": {
      "text/plain": [
       "(12, 10)"
      ]
     },
     "metadata": {},
     "execution_count": 61
    }
   ],
   "source": [
    "pred_result = model_mnist.predict(img_input4)\n",
    "pred_result.shape"
   ]
  },
  {
   "cell_type": "code",
   "execution_count": 63,
   "metadata": {},
   "outputs": [
    {
     "output_type": "execute_result",
     "data": {
      "text/plain": [
       "array([1.0832676e-03, 5.0876463e-09, 2.3963125e-06, 2.4203191e-05,\n",
       "       5.1682888e-05, 1.4192060e-01, 8.5250348e-01, 5.1610482e-07,\n",
       "       1.4684089e-03, 2.9453724e-03], dtype=float32)"
      ]
     },
     "metadata": {},
     "execution_count": 63
    }
   ],
   "source": [
    "pred_result[11]"
   ]
  },
  {
   "cell_type": "code",
   "execution_count": 64,
   "metadata": {},
   "outputs": [],
   "source": [
    "a = pred_result.argmax(axis=1)"
   ]
  },
  {
   "cell_type": "code",
   "execution_count": 65,
   "metadata": {},
   "outputs": [
    {
     "output_type": "execute_result",
     "data": {
      "text/plain": [
       "array([9, 9, 2, 7, 3, 5, 6, 9, 4, 5, 9, 6], dtype=int64)"
      ]
     },
     "metadata": {},
     "execution_count": 65
    }
   ],
   "source": [
    "a"
   ]
  },
  {
   "cell_type": "code",
   "execution_count": 49,
   "metadata": {},
   "outputs": [],
   "source": [
    "img_test = cv2.imread(\"C://Users/nguye/Desktop/VanAn/SUDOKU/Image/test/6.png\")"
   ]
  },
  {
   "cell_type": "code",
   "execution_count": 50,
   "metadata": {},
   "outputs": [],
   "source": [
    "img_test = cv2.cvtColor(img_test,cv2.COLOR_BGR2GRAY)\n",
    "img_test = cv2.resize(img_test,(28,28))"
   ]
  },
  {
   "cell_type": "code",
   "execution_count": 51,
   "metadata": {},
   "outputs": [],
   "source": [
    "img_test = cv2.bitwise_not(img_test,img_test)"
   ]
  },
  {
   "cell_type": "code",
   "execution_count": 52,
   "metadata": {},
   "outputs": [
    {
     "output_type": "execute_result",
     "data": {
      "text/plain": [
       "-1"
      ]
     },
     "metadata": {},
     "execution_count": 52
    }
   ],
   "source": [
    "cv2.imshow(\"img_test2\",img_test)\n",
    "cv2.waitKey(0)"
   ]
  },
  {
   "cell_type": "code",
   "execution_count": 55,
   "metadata": {},
   "outputs": [
    {
     "output_type": "execute_result",
     "data": {
      "text/plain": [
       "True"
      ]
     },
     "metadata": {},
     "execution_count": 55
    }
   ],
   "source": [
    "cv2.imwrite(\"C://Users/nguye/Desktop/VanAn/SUDOKU/Image/test/img1_6.jpeg\",img_test)"
   ]
  },
  {
   "cell_type": "code",
   "execution_count": null,
   "metadata": {},
   "outputs": [],
   "source": [
    "import gzip\n",
    "content = \"Lots of content here\"\n",
    "f = gzip.open('Onlyfinnaly.log.gz', 'wb')\n",
    "f.write(content)\n",
    "f.close()"
   ]
  }
 ]
}