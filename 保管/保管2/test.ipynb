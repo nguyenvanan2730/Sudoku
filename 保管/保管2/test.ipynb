{
 "metadata": {
  "language_info": {
   "codemirror_mode": {
    "name": "ipython",
    "version": 3
   },
   "file_extension": ".py",
   "mimetype": "text/x-python",
   "name": "python",
   "nbconvert_exporter": "python",
   "pygments_lexer": "ipython3",
   "version": "3.8.8"
  },
  "orig_nbformat": 4,
  "kernelspec": {
   "name": "python3",
   "display_name": "Python 3.8.8 64-bit ('base': conda)"
  },
  "interpreter": {
   "hash": "69251a949eb3dae48a5660fd5f9bc90f8709a7d30678464b55379986c6c980dc"
  }
 },
 "nbformat": 4,
 "nbformat_minor": 2,
 "cells": [
  {
   "cell_type": "code",
   "execution_count": 4,
   "metadata": {},
   "outputs": [],
   "source": [
    "from tensorflow import keras\n",
    "from tensorflow.keras.models import load_model\n",
    "import numpy as np\n",
    "import cv2"
   ]
  },
  {
   "cell_type": "code",
   "execution_count": 3,
   "metadata": {},
   "outputs": [],
   "source": [
    "def display(name,img):\n",
    "    cv2.imshow(name,img)\n",
    "    cv2.waitKey(0)"
   ]
  },
  {
   "cell_type": "code",
   "execution_count": 4,
   "metadata": {},
   "outputs": [],
   "source": [
    "model_mnist = load_model('C://Users/nguye/Desktop/VanAn/SUDOKU/model/mnist_handwritting.h5')"
   ]
  },
  {
   "cell_type": "code",
   "execution_count": 5,
   "metadata": {},
   "outputs": [],
   "source": [
    "url = \"C://Users/nguye/Desktop/VanAn/SUDOKU/img_crop.jpeg\"\n",
    "image = cv2.imread(url)"
   ]
  },
  {
   "cell_type": "code",
   "execution_count": 6,
   "metadata": {},
   "outputs": [
    {
     "output_type": "execute_result",
     "data": {
      "text/plain": [
       "(450, 450, 3)"
      ]
     },
     "metadata": {},
     "execution_count": 6
    }
   ],
   "source": [
    "cv2.imshow(\"image\",image)\n",
    "cv2.waitKey(0)\n",
    "image.shape"
   ]
  },
  {
   "cell_type": "code",
   "execution_count": 7,
   "metadata": {},
   "outputs": [
    {
     "output_type": "execute_result",
     "data": {
      "text/plain": [
       "-1"
      ]
     },
     "metadata": {},
     "execution_count": 7
    }
   ],
   "source": [
    "gray = cv2.cvtColor(image,cv2.COLOR_BGR2GRAY)\n",
    "cv2.imshow(\"image\",image)\n",
    "cv2.imshow(\"gray\",gray)\n",
    "gray.shape\n",
    "cv2.waitKey(0)"
   ]
  },
  {
   "cell_type": "code",
   "execution_count": 8,
   "metadata": {},
   "outputs": [
    {
     "output_type": "execute_result",
     "data": {
      "text/plain": [
       "-1"
      ]
     },
     "metadata": {},
     "execution_count": 8
    }
   ],
   "source": [
    "img_gauss1 = cv2.GaussianBlur(gray.copy(), (1, 1), 0)\n",
    "img_gauss3 = cv2.GaussianBlur(gray.copy(), (3, 3), 0)\n",
    "img_gauss5 = cv2.GaussianBlur(gray.copy(), (5, 5), 0)\n",
    "img_gauss7 = cv2.GaussianBlur(gray.copy(), (7, 7), 0)\n",
    "img_gauss9 = cv2.GaussianBlur(gray.copy(), (9, 9), 0)\n",
    "\n",
    "cv2.imshow(\"img_gauss1\", img_gauss1)\n",
    "cv2.imshow(\"img_gauss3\",img_gauss3)\n",
    "cv2.imshow(\"img_gauss5\", img_gauss5)\n",
    "cv2.imshow(\"img_gauss7\",img_gauss7)\n",
    "cv2.imshow(\"img_gauss9\",img_gauss9)\n",
    "cv2.waitKey(0)"
   ]
  },
  {
   "cell_type": "code",
   "execution_count": 9,
   "metadata": {},
   "outputs": [
    {
     "output_type": "execute_result",
     "data": {
      "text/plain": [
       "array([[150, 149, 154, 161, 146, 142, 142, 147, 139, 132],\n",
       "       [151, 148, 139, 126, 106,  99, 101, 109, 107, 105],\n",
       "       [147, 136, 113,  83,  65,  53,  53,  57,  70,  76],\n",
       "       [123, 104,  78,  59,  69,  74,  84,  90,  95,  96],\n",
       "       [101,  77,  62,  67, 100, 110, 119, 123, 128, 129],\n",
       "       [ 77,  56,  66, 103, 149, 160, 167, 169, 173, 179],\n",
       "       [ 71,  48,  67, 119, 163, 175, 184, 186, 189, 191],\n",
       "       [ 69,  44,  69, 130, 173, 188, 198, 198, 200, 202],\n",
       "       [ 69,  46,  69, 133, 175, 193, 201, 202, 204, 203],\n",
       "       [ 72,  51,  70, 127, 180, 197, 203, 204, 203, 202]], dtype=uint8)"
      ]
     },
     "metadata": {},
     "execution_count": 9
    }
   ],
   "source": [
    "gray[0:10,0:10]"
   ]
  },
  {
   "cell_type": "code",
   "execution_count": 10,
   "metadata": {},
   "outputs": [
    {
     "output_type": "error",
     "ename": "NameError",
     "evalue": "name 'img_gauss' is not defined",
     "traceback": [
      "\u001b[1;31m---------------------------------------------------------------------------\u001b[0m",
      "\u001b[1;31mNameError\u001b[0m                                 Traceback (most recent call last)",
      "\u001b[1;32m<ipython-input-10-b95dc62de51e>\u001b[0m in \u001b[0;36m<module>\u001b[1;34m\u001b[0m\n\u001b[1;32m----> 1\u001b[1;33m \u001b[0mimg_gauss\u001b[0m\u001b[1;33m[\u001b[0m\u001b[1;36m0\u001b[0m\u001b[1;33m:\u001b[0m\u001b[1;36m10\u001b[0m\u001b[1;33m,\u001b[0m\u001b[1;36m0\u001b[0m\u001b[1;33m:\u001b[0m\u001b[1;36m10\u001b[0m\u001b[1;33m]\u001b[0m\u001b[1;33m\u001b[0m\u001b[1;33m\u001b[0m\u001b[0m\n\u001b[0m",
      "\u001b[1;31mNameError\u001b[0m: name 'img_gauss' is not defined"
     ]
    }
   ],
   "source": [
    "img_gauss[0:10,0:10]"
   ]
  },
  {
   "cell_type": "code",
   "execution_count": 1,
   "metadata": {},
   "outputs": [],
   "source": [
    "import pickle\n"
   ]
  },
  {
   "cell_type": "code",
   "execution_count": 2,
   "metadata": {},
   "outputs": [],
   "source": [
    "filename = 'C://Users/nguye/Desktop/VanAn/SUDOKU/model/chars74k.sav'\n",
    "model_chars74k = pickle.load(open(filename, 'rb'))"
   ]
  },
  {
   "cell_type": "code",
   "execution_count": null,
   "metadata": {},
   "outputs": [],
   "source": [
    "cv2.putText(img, text, (offset_x, offset_y), cv2.FONT_HERSHEY_SIMPLEX,font_scale, color, thickness, cv2.LINE_AA)"
   ]
  },
  {
   "cell_type": "code",
   "execution_count": 36,
   "metadata": {},
   "outputs": [
    {
     "output_type": "execute_result",
     "data": {
      "text/plain": [
       "(450, 450, 3)"
      ]
     },
     "metadata": {},
     "execution_count": 36
    }
   ],
   "source": [
    "img =cv2.imread(\"C://Users/nguye/Desktop/VanAn/SUDOKU/Image/test/board.png\")\n",
    "img.shape"
   ]
  },
  {
   "cell_type": "code",
   "execution_count": 37,
   "metadata": {},
   "outputs": [
    {
     "output_type": "execute_result",
     "data": {
      "text/plain": [
       "(450, 450, 3)"
      ]
     },
     "metadata": {},
     "execution_count": 37
    }
   ],
   "source": [
    "img_text = cv2.putText(img, \"2\", (17, 35), cv2.FONT_HERSHEY_SIMPLEX,1, (0,0,0), 2, cv2.LINE_AA)\n",
    "img_text.shape"
   ]
  },
  {
   "cell_type": "code",
   "execution_count": 38,
   "metadata": {},
   "outputs": [
    {
     "output_type": "execute_result",
     "data": {
      "text/plain": [
       "-1"
      ]
     },
     "metadata": {},
     "execution_count": 38
    }
   ],
   "source": [
    "cv2.imshow(\"img_text\",img_text)\n",
    "cv2.waitKey(0)"
   ]
  },
  {
   "cell_type": "code",
   "execution_count": 39,
   "metadata": {},
   "outputs": [],
   "source": [
    "import numpy as np"
   ]
  },
  {
   "cell_type": "code",
   "execution_count": 59,
   "metadata": {},
   "outputs": [],
   "source": [
    "matrix = np.array(np.zeros(81)).reshape(9,9)\n"
   ]
  },
  {
   "cell_type": "code",
   "execution_count": 5,
   "metadata": {},
   "outputs": [],
   "source": [
    "matrix =[[0, 1, 0, 2, 0, 4, 0, 6, 0],\n",
    "       [3, 0, 7, 0, 9, 0, 2, 0, 5],\n",
    "       [0, 0, 0, 0, 0, 0, 0, 0, 0],\n",
    "       [0, 0, 0, 0, 0, 0, 0, 0, 0],\n",
    "       [0, 0, 0, 0, 0, 0, 0, 0, 0],\n",
    "       [8, 0, 6, 0, 4, 0, 3, 0, 2],\n",
    "       [0, 0, 0, 0, 0, 0, 0, 0, 0],\n",
    "       [0, 0, 0, 0, 0, 0, 0, 0, 0],\n",
    "       [0, 0, 0, 0, 0, 0, 0, 0, 0]]"
   ]
  },
  {
   "cell_type": "code",
   "execution_count": 6,
   "metadata": {},
   "outputs": [],
   "source": [
    "result = [[0, 0, 0, 0, 0, 0, 0, 0, 0],\n",
    "       [0, 2, 0, 1, 0, 5, 0, 8, 0],\n",
    "       [0, 0, 0, 0, 0, 0, 0, 0, 0],\n",
    "       [0, 0, 0, 0, 0, 0, 0, 0, 0],\n",
    "       [0, 0, 0, 0, 0, 0, 0, 0, 0],\n",
    "       [0, 0, 0, 0, 0, 0, 0, 0, 0],\n",
    "       [0, 0, 0, 0, 0, 0, 0, 0, 0],\n",
    "       [0, 0, 0, 0, 0, 0, 0, 0, 0],\n",
    "       [0, 0, 0, 0, 0, 0, 0, 0, 0]]"
   ]
  },
  {
   "cell_type": "code",
   "execution_count": 7,
   "metadata": {},
   "outputs": [],
   "source": [
    "img =cv2.imread(\"C://Users/nguye/Desktop/VanAn/SUDOKU/Image/test/board.png\")"
   ]
  },
  {
   "cell_type": "code",
   "execution_count": 14,
   "metadata": {},
   "outputs": [],
   "source": [
    "lb_x0 = 17\n",
    "lb_y0 = 35\n",
    "for i in range(9):\n",
    "    for j in range(9):\n",
    "        x = lb_x0 + 50*j\n",
    "        y = lb_y0 + 50*i\n",
    "        if matrix[i][j] !=0:\n",
    "             img_text = cv2.putText(img, str(matrix[i][j]), (x, y),cv2.FONT_HERSHEY_SIMPLEX,1, (0,0,0), 2, cv2.LINE_AA)\n",
    "        else:\n",
    "            img_text = cv2.putText(img, str(result[i][j]), (x, y),cv2.FONT_HERSHEY_SIMPLEX,1, (0,0,255), 2, cv2.LINE_AA)\n"
   ]
  },
  {
   "cell_type": "code",
   "execution_count": 15,
   "metadata": {},
   "outputs": [
    {
     "output_type": "execute_result",
     "data": {
      "text/plain": [
       "-1"
      ]
     },
     "metadata": {},
     "execution_count": 15
    }
   ],
   "source": [
    "cv2.imshow(\"img\",img)\n",
    "cv2.waitKey(0)"
   ]
  },
  {
   "cell_type": "code",
   "execution_count": null,
   "metadata": {},
   "outputs": [],
   "source": []
  }
 ]
}